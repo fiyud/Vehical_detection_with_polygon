{
 "cells": [
  {
   "cell_type": "code",
   "execution_count": 1,
   "metadata": {},
   "outputs": [
    {
     "ename": "ModuleNotFoundError",
     "evalue": "No module named 'cv2'",
     "output_type": "error",
     "traceback": [
      "\u001b[1;31m---------------------------------------------------------------------------\u001b[0m",
      "\u001b[1;31mModuleNotFoundError\u001b[0m                       Traceback (most recent call last)",
      "\u001b[1;32md:\\NCKH\\Trafifc_reg\\yolov8counting-trackingvehicles-main\\Traffic_congress.ipynb Cell 1\u001b[0m line \u001b[0;36m2\n\u001b[0;32m      <a href='vscode-notebook-cell:/d%3A/NCKH/Trafifc_reg/yolov8counting-trackingvehicles-main/Traffic_congress.ipynb#W0sZmlsZQ%3D%3D?line=0'>1</a>\u001b[0m \u001b[39mfrom\u001b[39;00m \u001b[39mtime_table\u001b[39;00m \u001b[39mimport\u001b[39;00m Time_table\n\u001b[1;32m----> <a href='vscode-notebook-cell:/d%3A/NCKH/Trafifc_reg/yolov8counting-trackingvehicles-main/Traffic_congress.ipynb#W0sZmlsZQ%3D%3D?line=1'>2</a>\u001b[0m \u001b[39mfrom\u001b[39;00m \u001b[39mmain\u001b[39;00m \u001b[39mimport\u001b[39;00m main\n\u001b[0;32m      <a href='vscode-notebook-cell:/d%3A/NCKH/Trafifc_reg/yolov8counting-trackingvehicles-main/Traffic_congress.ipynb#W0sZmlsZQ%3D%3D?line=2'>3</a>\u001b[0m \u001b[39mfrom\u001b[39;00m \u001b[39mtracker\u001b[39;00m \u001b[39mimport\u001b[39;00m Tracker\n\u001b[0;32m      <a href='vscode-notebook-cell:/d%3A/NCKH/Trafifc_reg/yolov8counting-trackingvehicles-main/Traffic_congress.ipynb#W0sZmlsZQ%3D%3D?line=3'>4</a>\u001b[0m \u001b[39mfrom\u001b[39;00m \u001b[39mtraffic_light\u001b[39;00m \u001b[39mimport\u001b[39;00m traffic_light\n",
      "File \u001b[1;32md:\\NCKH\\Trafifc_reg\\yolov8counting-trackingvehicles-main\\main.py:1\u001b[0m\n\u001b[1;32m----> 1\u001b[0m \u001b[39mimport\u001b[39;00m \u001b[39mcv2\u001b[39;00m\n\u001b[0;32m      2\u001b[0m \u001b[39mimport\u001b[39;00m \u001b[39mpandas\u001b[39;00m \u001b[39mas\u001b[39;00m \u001b[39mpd\u001b[39;00m\n\u001b[0;32m      3\u001b[0m \u001b[39mfrom\u001b[39;00m \u001b[39multralytics\u001b[39;00m \u001b[39mimport\u001b[39;00m YOLO\n",
      "\u001b[1;31mModuleNotFoundError\u001b[0m: No module named 'cv2'"
     ]
    }
   ],
   "source": [
    "from time_table import Time_table\n",
    "from main import main\n",
    "from tracker import Tracker\n",
    "from traffic_light import traffic_light"
   ]
  }
 ],
 "metadata": {
  "kernelspec": {
   "display_name": "Python 3",
   "language": "python",
   "name": "python3"
  },
  "language_info": {
   "codemirror_mode": {
    "name": "ipython",
    "version": 3
   },
   "file_extension": ".py",
   "mimetype": "text/x-python",
   "name": "python",
   "nbconvert_exporter": "python",
   "pygments_lexer": "ipython3",
   "version": "3.12.0"
  }
 },
 "nbformat": 4,
 "nbformat_minor": 2
}
